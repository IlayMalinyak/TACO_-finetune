{
 "cells": [
  {
   "cell_type": "code",
   "execution_count": null,
   "id": "51fb7d92-6397-4ee0-8af9-a3d2791fa5fd",
   "metadata": {},
   "outputs": [],
   "source": [
    "conda install ultralytics"
   ]
  },
  {
   "cell_type": "markdown",
   "id": "8ae2486e-56bd-4519-9a74-5eb42c8187ac",
   "metadata": {},
   "source": [
    "Training"
   ]
  },
  {
   "cell_type": "code",
   "execution_count": null,
   "id": "e62cede6-1cf3-46e3-afa5-d7377450d81b",
   "metadata": {},
   "outputs": [],
   "source": [
    "from ultralytics import YOLO\n",
    "model = YOLO(\"yolov8l.yaml\")\n",
    "model.train(data = 'datasets.yaml', epochs=120,patience=10, imgsz=864, batch=4)"
   ]
  },
  {
   "cell_type": "code",
   "execution_count": null,
   "id": "a998bb0c-f0a6-4a9c-94a4-4545609e34ab",
   "metadata": {},
   "outputs": [],
   "source": [
    "# Test.\n",
    "# NOTE: This built-in function checks the performance on the \"val\" folder. To run it on the \"test\" folder, I temporarily changed the folder names and then restored."
   ]
  },
  {
   "cell_type": "code",
   "execution_count": null,
   "id": "10e40a80-bb63-4896-a884-36627167c693",
   "metadata": {},
   "outputs": [],
   "source": [
    "! yolo val model=./runs/detect/large/weights/best.pt data=datasets.yaml batch=1 imgsz=864"
   ]
  }
 ],
 "metadata": {
  "kernelspec": {
   "display_name": "Python 3 (ipykernel)",
   "language": "python",
   "name": "python3"
  },
  "language_info": {
   "codemirror_mode": {
    "name": "ipython",
    "version": 3
   },
   "file_extension": ".py",
   "mimetype": "text/x-python",
   "name": "python",
   "nbconvert_exporter": "python",
   "pygments_lexer": "ipython3",
   "version": "3.8.12"
  }
 },
 "nbformat": 4,
 "nbformat_minor": 5
}
